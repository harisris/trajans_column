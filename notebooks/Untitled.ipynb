{
 "cells": [
  {
   "cell_type": "code",
   "execution_count": 1,
   "metadata": {},
   "outputs": [],
   "source": [
    "import sys\n",
    "sys.path.append('..')\n",
    "from utils.config import ConfigManager\n",
    "from comicvine import ComicVineClient\n",
    "\n"
   ]
  },
  {
   "cell_type": "code",
   "execution_count": 2,
   "metadata": {},
   "outputs": [],
   "source": [
    "manager = ConfigManager()\n",
    "vine = ComicVineClient(manager.read_api_key())"
   ]
  },
  {
   "cell_type": "code",
   "execution_count": 3,
   "metadata": {},
   "outputs": [],
   "source": [
    "from parsers.LibraryParser import Vanilla as library_parser"
   ]
  },
  {
   "cell_type": "code",
   "execution_count": 4,
   "metadata": {},
   "outputs": [],
   "source": [
    "x = library_parser('../data/')\n",
    "x.scan_root_folder()\n",
    "x.volumify()\n",
    "x.parse_library()"
   ]
  },
  {
   "cell_type": "code",
   "execution_count": null,
   "metadata": {},
   "outputs": [],
   "source": []
  },
  {
   "cell_type": "code",
   "execution_count": null,
   "metadata": {},
   "outputs": [
    {
     "data": {
      "application/vnd.jupyter.widget-view+json": {
       "model_id": "3a7aa4bdb20a4cfdbf9fc8c5dbcb9f33",
       "version_major": 2,
       "version_minor": 0
      },
      "text/plain": [
       "HBox(children=(IntProgress(value=0, max=11), HTML(value='')))"
      ]
     },
     "metadata": {},
     "output_type": "display_data"
    },
    {
     "name": "stdout",
     "output_type": "stream",
     "text": [
      "\n"
     ]
    }
   ],
   "source": [
    "x.search_volumes()"
   ]
  },
  {
   "cell_type": "code",
   "execution_count": null,
   "metadata": {},
   "outputs": [
    {
     "data": {
      "application/vnd.jupyter.widget-view+json": {
       "model_id": "1fc093df257644d284929c4feb1a5872",
       "version_major": 2,
       "version_minor": 0
      },
      "text/plain": [
       "HBox(children=(IntProgress(value=0, max=11), HTML(value='')))"
      ]
     },
     "metadata": {},
     "output_type": "display_data"
    },
    {
     "name": "stdout",
     "output_type": "stream",
     "text": [
      "\n"
     ]
    }
   ],
   "source": [
    "x.show_best()"
   ]
  },
  {
   "cell_type": "code",
   "execution_count": null,
   "metadata": {},
   "outputs": [
    {
     "name": "stdout",
     "output_type": "stream",
     "text": [
      "\n",
      "No. of issues within folder : 1\n",
      "Range of years within folder : {2009}\n",
      "1\n",
      "    Comic Name : X-Men: Legacy\n",
      "    Comic Start Year : 2008\n",
      "    Publisher Name : Marvel\n",
      "    No. of issues in the volume : 69\n",
      "    Match Score : 30.0\n",
      "      \n",
      "2\n",
      "    Comic Name : X-Men: Legacy - Prodigal\n",
      "    Comic Start Year : 2013\n",
      "    Publisher Name : Marvel\n",
      "    No. of issues in the volume : 1\n",
      "    Match Score : 10.0\n",
      "      \n",
      "3\n",
      "    Comic Name : X-Men: Legacy\n",
      "    Comic Start Year : 2013\n",
      "    Publisher Name : Marvel\n",
      "    No. of issues in the volume : 25\n",
      "    Match Score : 0.0\n",
      "      \n",
      "4\n",
      "    Comic Name : X-Men: Legacy: Emplate\n",
      "    Comic Start Year : 2010\n",
      "    Publisher Name : Marvel\n",
      "    No. of issues in the volume : 1\n",
      "    Match Score : 10.0\n",
      "      \n",
      "5\n",
      "    Comic Name : X-Men Legacy: Collision\n",
      "    Comic Start Year : 2011\n",
      "    Publisher Name : Marvel\n",
      "    No. of issues in the volume : 1\n",
      "    Match Score : 10.0\n",
      "      \n",
      "6\n",
      "    Comic Name : X-Men Legacy: Aftermath\n",
      "    Comic Start Year : 2011\n",
      "    Publisher Name : Marvel\n",
      "    No. of issues in the volume : 1\n",
      "    Match Score : 10.0\n",
      "      \n",
      "7\n",
      "    Comic Name : X-Men Legacy: Necrosha\n",
      "    Comic Start Year : 2012\n",
      "    Publisher Name : Marvel\n",
      "    No. of issues in the volume : 1\n",
      "    Match Score : 10.0\n",
      "      \n",
      "8\n",
      "    Comic Name : Marvel Legacy : X-Men\n",
      "    Comic Start Year : 2018\n",
      "    Publisher Name : Panini Comics\n",
      "    No. of issues in the volume : 6\n",
      "    Match Score : 0.0\n",
      "      \n",
      "9\n",
      "    Comic Name : X-Men: Legacy Annual\n",
      "    Comic Start Year : 2009\n",
      "    Publisher Name : Marvel\n",
      "    No. of issues in the volume : 1\n",
      "    Match Score : 50.0\n",
      "      \n",
      "10\n",
      "    Comic Name : X-Men Legacy: Salvage\n",
      "    Comic Start Year : 2009\n",
      "    Publisher Name : Marvel\n",
      "    No. of issues in the volume : 1\n",
      "    Match Score : 50.0\n",
      "      \n"
     ]
    }
   ],
   "source": [
    "x.confirm_best()"
   ]
  }
 ],
 "metadata": {
  "kernelspec": {
   "display_name": "Python 3",
   "language": "python",
   "name": "python3"
  },
  "language_info": {
   "codemirror_mode": {
    "name": "ipython",
    "version": 3
   },
   "file_extension": ".py",
   "mimetype": "text/x-python",
   "name": "python",
   "nbconvert_exporter": "python",
   "pygments_lexer": "ipython3",
   "version": "3.6.8"
  },
  "varInspector": {
   "cols": {
    "lenName": 16,
    "lenType": 16,
    "lenVar": 40
   },
   "kernels_config": {
    "python": {
     "delete_cmd_postfix": "",
     "delete_cmd_prefix": "del ",
     "library": "var_list.py",
     "varRefreshCmd": "print(var_dic_list())"
    },
    "r": {
     "delete_cmd_postfix": ") ",
     "delete_cmd_prefix": "rm(",
     "library": "var_list.r",
     "varRefreshCmd": "cat(var_dic_list()) "
    }
   },
   "types_to_exclude": [
    "module",
    "function",
    "builtin_function_or_method",
    "instance",
    "_Feature"
   ],
   "window_display": false
  }
 },
 "nbformat": 4,
 "nbformat_minor": 2
}
