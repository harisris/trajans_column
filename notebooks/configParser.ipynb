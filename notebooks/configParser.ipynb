{
 "cells": [
  {
   "cell_type": "code",
   "execution_count": 62,
   "metadata": {},
   "outputs": [],
   "source": [
    "import configparser\n",
    "import argparse\n",
    "from pathlib import Path"
   ]
  },
  {
   "cell_type": "code",
   "execution_count": 63,
   "metadata": {},
   "outputs": [],
   "source": [
    "comicvine_config_file = Path(Path.home()/'.comicvine.ini')\n",
    "api_key = 'be9301c9c1770a0c729635a06a4513ad9d95410c'"
   ]
  },
  {
   "cell_type": "code",
   "execution_count": 65,
   "metadata": {},
   "outputs": [],
   "source": [
    "def update_api_key(api_key):\n",
    "    config = configparser.ConfigParser()\n",
    "    if not comicvine_config_file.is_file():\n",
    "        config['ComicVine'] = {'api_key':api_key,\n",
    "                               'email_id':'hari.sri.s@gmail.com'}\n",
    "        with open (comicvine_config_file, 'w') as configfile:\n",
    "            config.write(configfile)\n",
    "    else:\n",
    "        config.read(comicvine_config_file)\n",
    "        print('Config File already exists.')\n",
    "        \n",
    "        if config['ComicVine']['api_key'] != api_key:\n",
    "            \n",
    "            print('Old Key : '+config['ComicVine']['api_key'])\n",
    "            config['ComicVine']['api_key'] = api_key\n",
    "            with open (comicvine_config_file, 'w') as configfile:\n",
    "                config.write(configfile)\n",
    "            print('New Key : '+config['ComicVine']['api_key'])\n",
    "        else:\n",
    "            print('Nothing to change here. Key already exists')"
   ]
  },
  {
   "cell_type": "code",
   "execution_count": 66,
   "metadata": {},
   "outputs": [],
   "source": [
    "def main(api_key):\n",
    "    update_api_key(api_key=api_key)"
   ]
  },
  {
   "cell_type": "code",
   "execution_count": 68,
   "metadata": {},
   "outputs": [
    {
     "name": "stderr",
     "output_type": "stream",
     "text": [
      "usage: ipykernel_launcher.py [-h] api_key\n",
      "ipykernel_launcher.py: error: unrecognized arguments: -f\n"
     ]
    },
    {
     "ename": "SystemExit",
     "evalue": "2",
     "output_type": "error",
     "traceback": [
      "An exception has occurred, use %tb to see the full traceback.\n",
      "\u001b[0;31mSystemExit\u001b[0m\u001b[0;31m:\u001b[0m 2\n"
     ]
    },
    {
     "name": "stderr",
     "output_type": "stream",
     "text": [
      "/Users/srihari/.pyenv/versions/3.6.8/lib/python3.6/site-packages/IPython/core/interactiveshell.py:3275: UserWarning: To exit: use 'exit', 'quit', or Ctrl-D.\n",
      "  warn(\"To exit: use 'exit', 'quit', or Ctrl-D.\", stacklevel=1)\n"
     ]
    }
   ],
   "source": [
    "# if __name__ == \"__main__\":\n",
    "#     parser = argparse.ArgumentParser(description = 'Wrapper Function to add Comic Vine API Key. (You can generate it from the website.)')\n",
    "#     parser.add_argument('api_key', help='ComicVine API Key')\n",
    "#     args = parser.parse_args()\n",
    "#     main(args.api_key)\n",
    "    "
   ]
  },
  {
   "cell_type": "code",
   "execution_count": 69,
   "metadata": {},
   "outputs": [
    {
     "name": "stdout",
     "output_type": "stream",
     "text": [
      "Config File already exists.\n",
      "Nothing to change here. Key already exists\n"
     ]
    }
   ],
   "source": [
    "def read_api_key():\n",
    "    comicvine_config_file = Path(Path.home()/'.comicvine.ini')\n",
    "    config = configparser.ConfigParser()"
   ]
  }
 ],
 "metadata": {
  "kernelspec": {
   "display_name": "Python 3",
   "language": "python",
   "name": "python3"
  },
  "language_info": {
   "codemirror_mode": {
    "name": "ipython",
    "version": 3
   },
   "file_extension": ".py",
   "mimetype": "text/x-python",
   "name": "python",
   "nbconvert_exporter": "python",
   "pygments_lexer": "ipython3",
   "version": "3.6.8"
  },
  "varInspector": {
   "cols": {
    "lenName": 16,
    "lenType": 16,
    "lenVar": 40
   },
   "kernels_config": {
    "python": {
     "delete_cmd_postfix": "",
     "delete_cmd_prefix": "del ",
     "library": "var_list.py",
     "varRefreshCmd": "print(var_dic_list())"
    },
    "r": {
     "delete_cmd_postfix": ") ",
     "delete_cmd_prefix": "rm(",
     "library": "var_list.r",
     "varRefreshCmd": "cat(var_dic_list()) "
    }
   },
   "types_to_exclude": [
    "module",
    "function",
    "builtin_function_or_method",
    "instance",
    "_Feature"
   ],
   "window_display": false
  }
 },
 "nbformat": 4,
 "nbformat_minor": 2
}
